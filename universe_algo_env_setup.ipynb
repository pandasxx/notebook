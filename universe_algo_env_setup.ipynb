{
 "cells": [
  {
   "cell_type": "markdown",
   "metadata": {},
   "source": [
    "## 通用算法环境部署"
   ]
  },
  {
   "cell_type": "markdown",
   "metadata": {},
   "source": [
    "## 一 系统安装"
   ]
  },
  {
   "cell_type": "markdown",
   "metadata": {},
   "source": [
    "### 1.1 分区"
   ]
  },
  {
   "cell_type": "markdown",
   "metadata": {},
   "source": [
    "适用于 512g nvme 和 1个机械硬盘的情况\n",
    "\n",
    "    /boot 20g nvme\n",
    "    /     剩下的nvme\n",
    "    /swap 200g nvme\n",
    "    /home 机械硬盘"
   ]
  },
  {
   "cell_type": "markdown",
   "metadata": {},
   "source": [
    "### 1.2 基础服务和包 "
   ]
  },
  {
   "cell_type": "markdown",
   "metadata": {},
   "source": [
    "准备安装环境：\n",
    "\n",
    "    可视化切换源到aliyun\n",
    "    sudo apt update\n",
    "    sudo apt upgrade\n",
    "    sudo install vim"
   ]
  },
  {
   "cell_type": "markdown",
   "metadata": {},
   "source": [
    "安装ssh：\n",
    "\n",
    "    sudo apt install openssh-server"
   ]
  },
  {
   "cell_type": "markdown",
   "metadata": {},
   "source": [
    "samba:\n",
    "    \n",
    "    sudo apt install samba\n",
    "    sudo apt install smbclient\n",
    "    \n",
    "    sudo vi /etc/samba/smb.conf\n",
    "        \n",
    "        用户名:sakulaki\n",
    "        共享目录:/home/sakulaki\n",
    "    \n",
    "        在最后添加\n",
    "        [sakulaki]\n",
    "        comment = Share Folder require password\n",
    "        browseable = yes\n",
    "        path = /home/sakulaki\n",
    "        create mask = 0777\n",
    "        directory mask = 0777\n",
    "        valid users = sakulaki\n",
    "        force user = nobody\n",
    "        force group = nogroup\n",
    "        public = yes\n",
    "        writable = yes\n",
    "        available = yes\n",
    "        \n",
    "    sudo /etc/init.d/samba restart\n",
    "    cd /home\n",
    "    sudo mkdir sakulaki\n",
    "    chmod 777 sakulaki\n",
    "    sudo groupadd sakulaki -g 6000\n",
    "    sudo useradd sakulaki -g 6000 -s /shin/nologin -d /dev/null\n",
    "    \n",
    "    sudo smbpasswd -a sakulaki\n",
    "    输入两次密码即可（建议123）"
   ]
  },
  {
   "cell_type": "markdown",
   "metadata": {},
   "source": [
    "ip设置:\n",
    "    \n",
    "    在图形界面中设置相关ip\n",
    "    ipv4选项卡，设置地址\n",
    "    IP地址：192.168.1.xx\n",
    "    mask: 255.255.255.0\n",
    "    网关：192.168.1.1\n",
    "    dns: 192.168.1.1"
   ]
  },
  {
   "cell_type": "markdown",
   "metadata": {},
   "source": [
    "后续准备：\n",
    "    \n",
    "    samba 192.168.1.123/sakulaki 的env文件夹\n",
    "    从该文件夹复制所有的env 到 需要安装的机器 samba 的env\n",
    "    所有机器的samba 都是 192.168.1.xx/sakulaki\n",
    "    \n",
    "    \n",
    "    解压env下的archives 到指定机器的 /var/cache/apt/archives 中"
   ]
  },
  {
   "cell_type": "markdown",
   "metadata": {},
   "source": [
    "## 二 系统基础库安装"
   ]
  },
  {
   "cell_type": "markdown",
   "metadata": {},
   "source": [
    "## 2.1 ubuntu base "
   ]
  },
  {
   "cell_type": "markdown",
   "metadata": {},
   "source": [
    "编译环境\n",
    "\n",
    "    sudo apt install build-essential ssh git cmake dkms"
   ]
  },
  {
   "cell_type": "markdown",
   "metadata": {},
   "source": [
    "### 2.1 NVIDIA相关"
   ]
  },
  {
   "cell_type": "markdown",
   "metadata": {},
   "source": [
    "install tslide\n",
    "\n",
    "    sudo unzip tslide.zip\n",
    "    cd tslide\n",
    "    sudo cp -r *.so /usr/lib"
   ]
  },
  {
   "cell_type": "markdown",
   "metadata": {},
   "source": [
    "### 三 虚拟环境安装 "
   ]
  },
  {
   "cell_type": "markdown",
   "metadata": {
    "collapsed": true
   },
   "source": [
    "anaconda安装\n",
    "\n",
    "    sudo chmod +x Anaconda3-5.2.0-Linux-x86_64.sh\n",
    "    sudo ./Anaconda3-5.2.0-Linux-x86_64.sh\n",
    "    记得添加环境变量 yes\n",
    "\n",
    "anaconda环境创建\n",
    "    \n",
    "    tar -xvf keras-base.tar\n",
    "    conda create -n algo-base --clone ~/../sakulaki/env/algo-base\n",
    "    conda create -n algo-work --clone algo-base\n",
    "\n",
    "jupyter remote setting\n",
    "\n",
    "    jupyter notebook --generate-config\n",
    "    \n",
    "    ipython\n",
    "    \n",
    "    In [1]: from notebook.auth import passwd\n",
    "    In [2]: passwd()\n",
    "    Enter password: 123\n",
    "    Verify password: 123\n",
    "    Out[2]: 'sha1:f2aad3cde3ea:e3b48d4cd230beeb3e6753617f38aaf77fc785cd'\n",
    "    把密文复制下来 'sha1:f2aad3cde3ea:e3b48d4cd230beeb3e6753617f38aaf77fc785cd'\n",
    "    \n",
    "    vim ~/.jupyter/jupyter_notebook_config.py \n",
    "    c.NotebookApp.ip='*'\n",
    "    c.NotebookApp.password = u'sha1:f2aad3cde3ea:e3b48d4cd230beeb3e6753617f38aaf77fc785cd'\n",
    "    c.NotebookApp.open_browser = False\n",
    "    c.NotebookApp.port = 8888\n",
    "\n",
    "anaconda环境激活和使用\n",
    "    \n",
    "    source activate algo-work\n",
    "    在想使用的文件夹下 jupyter notebook\n",
    "    在局域网内任意机器输入 192.168.1.xx:8888 即可访问"
   ]
  },
  {
   "cell_type": "markdown",
   "metadata": {},
   "source": [
    "### 四 未尽事宜"
   ]
  },
  {
   "cell_type": "markdown",
   "metadata": {},
   "source": [
    "    使用super机作为安装镜像服务器\n",
    "    \n",
    "    使用本地deb作为apt安装源"
   ]
  },
  {
   "cell_type": "code",
   "execution_count": null,
   "metadata": {
    "collapsed": true
   },
   "outputs": [],
   "source": []
  }
 ],
 "metadata": {
  "kernelspec": {
   "display_name": "Python 3",
   "language": "python",
   "name": "python3"
  },
  "language_info": {
   "codemirror_mode": {
    "name": "ipython",
    "version": 3
   },
   "file_extension": ".py",
   "mimetype": "text/x-python",
   "name": "python",
   "nbconvert_exporter": "python",
   "pygments_lexer": "ipython3",
   "version": "3.6.5"
  }
 },
 "nbformat": 4,
 "nbformat_minor": 2
}
